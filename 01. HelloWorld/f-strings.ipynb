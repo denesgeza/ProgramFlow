{
 "cells": [
  {
   "cell_type": "code",
   "execution_count": 10,
   "metadata": {},
   "outputs": [
    {
     "name": "stdout",
     "output_type": "stream",
     "text": [
      "Tim is 24 years old\n"
     ]
    }
   ],
   "source": [
    "#this works only python 3.6 and above\n",
    "greeting = \"Hello\"\n",
    "age = 24  \n",
    "name = 'Tim'\n",
    "\n",
    "# print(name + ' is ' + age + ' years old') \n",
    "print(name + f\" is {age} years old\") \n",
    "\n"
   ]
  },
  {
   "cell_type": "markdown",
   "metadata": {},
   "source": [
    "the int 24 works with f-strings, otherwise would result in error"
   ]
  },
  {
   "cell_type": "code",
   "execution_count": 13,
   "metadata": {},
   "outputs": [
    {
     "name": "stdout",
     "output_type": "stream",
     "text": [
      "Pi is approx 3.14285714285714279370154144999105483293533325195312\n",
      "Pi is approx 3.14285714285714279370154144999105483293533325195312\n"
     ]
    }
   ],
   "source": [
    "print(f'Pi is approx {22 /7:12.50f}')\n",
    "\n",
    "pi = 22 / 7\n",
    "print(f'Pi is approx {pi:12.50f}')\n"
   ]
  }
 ],
 "metadata": {
  "interpreter": {
   "hash": "aee8b7b246df8f9039afb4144a1f6fd8d2ca17a180786b69acc140d282b71a49"
  },
  "kernelspec": {
   "display_name": "Python 3.10.0 64-bit",
   "language": "python",
   "name": "python3"
  },
  "language_info": {
   "codemirror_mode": {
    "name": "ipython",
    "version": 3
   },
   "file_extension": ".py",
   "mimetype": "text/x-python",
   "name": "python",
   "nbconvert_exporter": "python",
   "pygments_lexer": "ipython3",
   "version": "3.10.0"
  },
  "orig_nbformat": 4
 },
 "nbformat": 4,
 "nbformat_minor": 2
}
