{
 "cells": [
  {
   "cell_type": "code",
   "execution_count": 1,
   "metadata": {},
   "outputs": [
    {
     "name": "stdout",
     "output_type": "stream",
     "text": [
      "No.  1 square is   1 and cubed is    1\n",
      "No.  2 square is   4 and cubed is    8\n",
      "No.  3 square is   9 and cubed is   27\n",
      "No.  4 square is  16 and cubed is   64\n",
      "No.  5 square is  25 and cubed is  125\n",
      "No.  6 square is  36 and cubed is  216\n",
      "No.  7 square is  49 and cubed is  343\n",
      "No.  8 square is  64 and cubed is  512\n",
      "**************************************************\n"
     ]
    }
   ],
   "source": [
    "#how to create a code block\n",
    "# block of code run separately\n",
    "for i in range(1, 9):\n",
    "    print('No.  {} square is {:3} and cubed is {:>4}'.format(i, i ** 2, i ** 3))\n",
    "print('*' * 50)"
   ]
  },
  {
   "cell_type": "code",
   "execution_count": 2,
   "metadata": {},
   "outputs": [
    {
     "name": "stdout",
     "output_type": "stream",
     "text": [
      "No.  1 square is 1 and cubed is  1\n",
      "**************************************************\n",
      "No.  2 square is 4 and cubed is  8\n",
      "**************************************************\n",
      "No.  3 square is 9 and cubed is 27\n",
      "**************************************************\n",
      "No.  4 square is 16 and cubed is 64\n",
      "**************************************************\n"
     ]
    }
   ],
   "source": [
    "# code run at the same time, check results\n",
    "for i in range(1, 5):\n",
    "    print('No.  {} square is {} and cubed is {:2}'.format(i, i ** 2, i ** 3))\n",
    "    print('*' * 50)"
   ]
  },
  {
   "cell_type": "code",
   "execution_count": 7,
   "metadata": {},
   "outputs": [
    {
     "name": "stdout",
     "output_type": "stream",
     "text": [
      "Hello Geza, so you are 38 years old.\n"
     ]
    }
   ],
   "source": [
    "name = input('Please enter your name: ')\n",
    "age = input('Please enter your age: ')\n",
    "print(\"Hello \" + name + ', so you are ' + age + ' years old.')"
   ]
  },
  {
   "cell_type": "code",
   "execution_count": 8,
   "metadata": {},
   "outputs": [
    {
     "name": "stdout",
     "output_type": "stream",
     "text": [
      "40\n"
     ]
    }
   ],
   "source": [
    "name = input('Please enter your name: ')\n",
    "age = input('How old are you, {0}? ').format(name)\n",
    "print(age)"
   ]
  },
  {
   "cell_type": "code",
   "execution_count": 18,
   "metadata": {},
   "outputs": [
    {
     "name": "stdout",
     "output_type": "stream",
     "text": [
      "22\n"
     ]
    }
   ],
   "source": [
    "# int converts it to int , it gives traceback error if str is introduced\n",
    "name = input('Please enter your name: ')\n",
    "age = int(input('How old are you, {0}? '.format(name)))\n",
    "print(age)"
   ]
  },
  {
   "cell_type": "code",
   "execution_count": 19,
   "metadata": {},
   "outputs": [
    {
     "name": "stdout",
     "output_type": "stream",
     "text": [
      "22\n",
      "You're old enough to vote!\n",
      "Please put an X in the box\n"
     ]
    }
   ],
   "source": [
    "name = input('Please enter your name: ')\n",
    "age = int(input('How old are you, {0} ?'.format(name)))\n",
    "print(age)\n",
    "\n",
    "if age >= 18:\n",
    "    print(\"You're old enough to vote!\")\n",
    "    print('Please put an X in the box')\n",
    "else:\n",
    "    print('Please come back in {0} years'.format(18 - age))\n",
    "    \n",
    "if age < 18:\n",
    "    print('Please come back in {0} years'.format(18 - age))\n",
    "    \n",
    "    \n",
    "    \n",
    "    "
   ]
  },
  {
   "cell_type": "code",
   "execution_count": 20,
   "metadata": {},
   "outputs": [
    {
     "name": "stdout",
     "output_type": "stream",
     "text": [
      "12\n",
      "Please come back in 6 years\n"
     ]
    }
   ],
   "source": [
    "name = input('Please enter your name: ')\n",
    "age = int(input('How old are you, {0} ?'.format(name)))\n",
    "print(age)\n",
    "\n",
    "if age < 18:\n",
    "    print('Please come back in {0} years'.format(18 - age))\n",
    "else:\n",
    "    print(\"You're old enough to vote!\")\n",
    "    print('Please put an X in the box')"
   ]
  },
  {
   "cell_type": "code",
   "execution_count": 21,
   "metadata": {},
   "outputs": [
    {
     "name": "stdout",
     "output_type": "stream",
     "text": [
      "900\n",
      "Sorry, Yoda, you die in Return of the Jedi! :(\n"
     ]
    }
   ],
   "source": [
    "name = input('Please enter your name: ')\n",
    "age = int(input('How old are you, {0} ?'.format(name)))\n",
    "print(age)\n",
    "\n",
    "if age < 18:\n",
    "    print('Please come back in {0} years'.format(18 - age))\n",
    "elif age == 900:\n",
    "    print('Sorry, Yoda, you die in Return of the Jedi! :(')\n",
    "else:\n",
    "    print(\"You're old enough to vote!\")\n",
    "    print('Please put an X in the box')"
   ]
  }
 ],
 "metadata": {
  "interpreter": {
   "hash": "aee8b7b246df8f9039afb4144a1f6fd8d2ca17a180786b69acc140d282b71a49"
  },
  "kernelspec": {
   "display_name": "Python 3.10.0 64-bit",
   "language": "python",
   "name": "python3"
  },
  "language_info": {
   "codemirror_mode": {
    "name": "ipython",
    "version": 3
   },
   "file_extension": ".py",
   "mimetype": "text/x-python",
   "name": "python",
   "nbconvert_exporter": "python",
   "pygments_lexer": "ipython3",
   "version": "3.10.0"
  },
  "orig_nbformat": 4
 },
 "nbformat": 4,
 "nbformat_minor": 2
}
