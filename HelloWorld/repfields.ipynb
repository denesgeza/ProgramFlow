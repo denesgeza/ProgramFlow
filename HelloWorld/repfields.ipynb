{
 "cells": [
  {
   "cell_type": "code",
   "execution_count": 1,
   "metadata": {},
   "outputs": [
    {
     "name": "stdout",
     "output_type": "stream",
     "text": [
      "My age is 24 years\n"
     ]
    }
   ],
   "source": [
    "age = 24\n",
    "print('My age is ' + str(age) + ' years')"
   ]
  },
  {
   "cell_type": "code",
   "execution_count": 2,
   "metadata": {},
   "outputs": [
    {
     "name": "stdout",
     "output_type": "stream",
     "text": [
      "My age is 24 years\n"
     ]
    }
   ],
   "source": [
    "age = 24\n",
    "print('My age is {0} years'.format(age))"
   ]
  },
  {
   "cell_type": "code",
   "execution_count": 3,
   "metadata": {},
   "outputs": [
    {
     "name": "stdout",
     "output_type": "stream",
     "text": [
      "There are 31 days in Jan, Mar, May, Jul, Aug, Oct, and Dec\n"
     ]
    }
   ],
   "source": [
    "print('There are {0} days in {1}, {2}, {3}, {4}, {5}, {6}, and {7}'\n",
    "      .format(31, \"Jan\", \"Mar\", \"May\", \"Jul\", \"Aug\", \"Oct\", \"Dec\" ))\n"
   ]
  },
  {
   "cell_type": "code",
   "execution_count": 4,
   "metadata": {},
   "outputs": [
    {
     "name": "stdout",
     "output_type": "stream",
     "text": [
      "There are 31 days Jan, Mar, May, Jul, Aug, Oct and Dec\n"
     ]
    }
   ],
   "source": [
    "print('There are {0} days Jan, Mar, May, Jul, Aug, Oct and Dec'\n",
    "      .format(31))"
   ]
  },
  {
   "cell_type": "code",
   "execution_count": 5,
   "metadata": {},
   "outputs": [
    {
     "name": "stdout",
     "output_type": "stream",
     "text": [
      "Jan: 31, Feb: 28, Mar: 30, Apr: 31\n"
     ]
    }
   ],
   "source": [
    "print(('Jan: {2}, Feb: {0}, Mar: {1}, Apr: {2}').format(28, 30, 31))\n"
   ]
  },
  {
   "cell_type": "code",
   "execution_count": 6,
   "metadata": {},
   "outputs": [
    {
     "name": "stdout",
     "output_type": "stream",
     "text": [
      "Jan:31\n",
      "      Feb: 28\n",
      "      Mar: 31\n",
      "      Apr: 30)\n"
     ]
    }
   ],
   "source": [
    "# in multiple lines\n",
    "print(\"\"\"Jan:{2}\n",
    "      Feb: {0}\n",
    "      Mar: {2}\n",
    "      Apr: {1})\"\"\".format(28, 30, 31)) \n"
   ]
  }
 ],
 "metadata": {
  "interpreter": {
   "hash": "aee8b7b246df8f9039afb4144a1f6fd8d2ca17a180786b69acc140d282b71a49"
  },
  "kernelspec": {
   "display_name": "Python 3.10.0 64-bit",
   "language": "python",
   "name": "python3"
  },
  "language_info": {
   "codemirror_mode": {
    "name": "ipython",
    "version": 3
   },
   "file_extension": ".py",
   "mimetype": "text/x-python",
   "name": "python",
   "nbconvert_exporter": "python",
   "pygments_lexer": "ipython3",
   "version": "3.10.0"
  },
  "orig_nbformat": 4
 },
 "nbformat": 4,
 "nbformat_minor": 2
}
