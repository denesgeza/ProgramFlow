{
 "cells": [
  {
   "cell_type": "code",
   "execution_count": 1,
   "metadata": {},
   "outputs": [
    {
     "name": "stdout",
     "output_type": "stream",
     "text": [
      "No. 1 squared is 1 and cubed is 1\n",
      "No. 2 squared is 4 and cubed is 8\n",
      "No. 3 squared is 9 and cubed is 27\n",
      "No. 4 squared is 16 and cubed is 64\n",
      "No. 5 squared is 25 and cubed is 125\n",
      "No. 6 squared is 36 and cubed is 216\n",
      "No. 7 squared is 49 and cubed is 343\n",
      "No. 8 squared is 64 and cubed is 512\n",
      "No. 9 squared is 81 and cubed is 729\n",
      "No. 10 squared is 100 and cubed is 1000\n",
      "No. 11 squared is 121 and cubed is 1331\n",
      "No. 12 squared is 144 and cubed is 1728\n"
     ]
    }
   ],
   "source": [
    "for i in range(1, 13):\n",
    "    print('No. {0} squared is {1} and cubed is {2}'.format(i, i ** 2, i ** 3))"
   ]
  },
  {
   "cell_type": "code",
   "execution_count": 3,
   "metadata": {},
   "outputs": [
    {
     "name": "stdout",
     "output_type": "stream",
     "text": [
      "No.  1 squared is   1 and cubed is    1\n",
      "No.  2 squared is   4 and cubed is    8\n",
      "No.  3 squared is   9 and cubed is   27\n",
      "No.  4 squared is  16 and cubed is   64\n",
      "No.  5 squared is  25 and cubed is  125\n",
      "No.  6 squared is  36 and cubed is  216\n",
      "No.  7 squared is  49 and cubed is  343\n",
      "No.  8 squared is  64 and cubed is  512\n",
      "No.  9 squared is  81 and cubed is  729\n",
      "No. 10 squared is 100 and cubed is 1000\n",
      "No. 11 squared is 121 and cubed is 1331\n",
      "No. 12 squared is 144 and cubed is 1728\n"
     ]
    }
   ],
   "source": [
    "# {0:2} 2 is the field width to align the values\n",
    "for i in range(1, 13):\n",
    "    print('No. {0:2} squared is {1:3} and cubed is {2:4}'.format(i, i ** 2, i ** 3))\n",
    "        \n",
    "    "
   ]
  },
  {
   "cell_type": "code",
   "execution_count": 4,
   "metadata": {},
   "outputs": [
    {
     "name": "stdout",
     "output_type": "stream",
     "text": [
      "No.  1 squared is 1   and cubed is  1  \n",
      "No.  2 squared is 4   and cubed is  8  \n",
      "No.  3 squared is 9   and cubed is  27 \n",
      "No.  4 squared is 16  and cubed is  64 \n",
      "No.  5 squared is 25  and cubed is 125 \n",
      "No.  6 squared is 36  and cubed is 216 \n",
      "No.  7 squared is 49  and cubed is 343 \n",
      "No.  8 squared is 64  and cubed is 512 \n",
      "No.  9 squared is 81  and cubed is 729 \n",
      "No. 10 squared is 100 and cubed is 1000\n",
      "No. 11 squared is 121 and cubed is 1331\n",
      "No. 12 squared is 144 and cubed is 1728\n"
     ]
    }
   ],
   "source": [
    "# <3 is doing a left align for the 3 width field, ^4 is center align\n",
    "for i in range(1, 13):\n",
    "    print('No. {0:2} squared is {1:<3} and cubed is {2:^4}'.format(i, i ** 2, i ** 3))"
   ]
  },
  {
   "cell_type": "markdown",
   "metadata": {},
   "source": [
    "# < left align\n",
    "# > right align\n",
    "# ^ center align"
   ]
  },
  {
   "cell_type": "code",
   "execution_count": 10,
   "metadata": {},
   "outputs": [
    {
     "name": "stdout",
     "output_type": "stream",
     "text": [
      "Pi is approximately 3.142857142857143\n",
      "Pi is approximately     3.142857\n",
      "Pi is approximately 3.14285714285714279370154144999105483293533325195312\n",
      "Pi is approximately 3.14285714285714279370154144999105483293533325195312\n",
      "Pi is approximately           3.14285714285714279370154144999105483293533325195312\n",
      "Pi is approximately 3.14285714285714279370154144999105483293533325195312                    \n",
      "Pi is approximately 3.142857142857142793701541449991054832935333251953125000                \n"
     ]
    }
   ],
   "source": [
    "print('Pi is approximately {0:12}'.format(22/7))  #general format 15 decimals\n",
    "print('Pi is approximately {0:12f}'.format(22/7))   #floating point --> default values is 6 decimals\n",
    "print('Pi is approximately {0:12.50f}'.format(22/7)) #floating point --> 50 decimals\n",
    "print('Pi is approximately {0:52.50f}'.format(22/7)) #\n",
    "print('Pi is approximately {0:62.50f}'.format(22/7)) #\n",
    "print('Pi is approximately {0:<72.50f}'.format(22/7)) #left align, fl point 50 decimals, max python precision\n",
    "print('Pi is approximately {0:<72.54f}'.format(22/7)) #left align, fl point 54 decimals, no point more than 50f\n"
   ]
  },
  {
   "cell_type": "markdown",
   "metadata": {},
   "source": [
    "#  {0:52.50f}  field with = 52, f = floating point, 50f, floating point precision"
   ]
  }
 ],
 "metadata": {
  "interpreter": {
   "hash": "aee8b7b246df8f9039afb4144a1f6fd8d2ca17a180786b69acc140d282b71a49"
  },
  "kernelspec": {
   "display_name": "Python 3.10.0 64-bit",
   "language": "python",
   "name": "python3"
  },
  "language_info": {
   "codemirror_mode": {
    "name": "ipython",
    "version": 3
   },
   "file_extension": ".py",
   "mimetype": "text/x-python",
   "name": "python",
   "nbconvert_exporter": "python",
   "pygments_lexer": "ipython3",
   "version": "3.10.0"
  },
  "orig_nbformat": 4
 },
 "nbformat": 4,
 "nbformat_minor": 2
}
